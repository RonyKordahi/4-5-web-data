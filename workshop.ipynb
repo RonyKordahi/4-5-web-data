{
 "cells": [
  {
   "cell_type": "code",
   "execution_count": 1,
   "metadata": {},
   "outputs": [],
   "source": [
    "import requests\n",
    "import json\n",
    "import pandas as pd\n",
    "import matplotlib.pyplot as plt"
   ]
  },
  {
   "cell_type": "markdown",
   "metadata": {},
   "source": [
    "# 1. Twitch API data\n",
    "\n",
    "The URL `https://wind-bow.glitch.me/twitch-api/channels/{CHANNEL_NAME}` is an API from twitch to get data from twitch channels.\n",
    "\n",
    "Get the data from the following channels:\n",
    "\n",
    "```\n",
    "[\"ESL_SC2\", \"OgamingSC2\", \"cretetion\", \"freecodecamp\", \n",
    "    \"storbeck\", \"habathcx\", \"RobotCaleb\", \"noobs2ninjas\",\n",
    "    \"ninja\", \"shroud\", \"Dakotaz\", \"esltv_cs\", \"pokimane\", \n",
    "    \"tsm_bjergsen\", \"boxbox\", \"wtcn\", \"a_seagull\",\n",
    "    \"kinggothalion\", \"amazhs\", \"jahrein\", \"thenadeshot\", \n",
    "    \"sivhd\", \"kingrichard\"]\n",
    "```\n",
    "\n",
    "To make into a dataframe that looks like this:\n",
    "\n",
    "![](twitch.png)"
   ]
  },
  {
   "cell_type": "code",
   "execution_count": 2,
   "metadata": {},
   "outputs": [],
   "source": [
    "channels = [\"ESL_SC2\", \"OgamingSC2\", \"cretetion\", \"freecodecamp\", \"storbeck\", \"habathcx\", \"RobotCaleb\", \"noobs2ninjas\",\n",
    "            \"ninja\", \"shroud\", \"Dakotaz\", \"esltv_cs\", \"pokimane\", \"tsm_bjergsen\", \"boxbox\", \"wtcn\", \"a_seagull\",\n",
    "            \"kinggothalion\", \"amazhs\", \"jahrein\", \"thenadeshot\", \"sivhd\", \"kingrichard\"]\n",
    "\n",
    "columns = [\"id\", \"display_name\", \"status\", \"followers\", \"views\"]\n",
    "df = pd.DataFrame(columns = columns)"
   ]
  },
  {
   "cell_type": "code",
   "execution_count": 3,
   "metadata": {},
   "outputs": [],
   "source": [
    "for i in range(len(channels)):\n",
    "    r = requests.get(f\"https://wind-bow.glitch.me/twitch-api/channels/{channels[i]}\")\n",
    "    content = json.loads(r.content)\n",
    "    \n",
    "    # skips passed the ones that return an error\n",
    "    if content[\"status\"] != 404:\n",
    "        df.loc[i] = [content[\"_id\"], content[\"display_name\"], content[\"status\"], content[\"followers\"], content[\"views\"]]"
   ]
  },
  {
   "cell_type": "code",
   "execution_count": 4,
   "metadata": {},
   "outputs": [
    {
     "data": {
      "text/html": [
       "<div>\n",
       "<style scoped>\n",
       "    .dataframe tbody tr th:only-of-type {\n",
       "        vertical-align: middle;\n",
       "    }\n",
       "\n",
       "    .dataframe tbody tr th {\n",
       "        vertical-align: top;\n",
       "    }\n",
       "\n",
       "    .dataframe thead th {\n",
       "        text-align: right;\n",
       "    }\n",
       "</style>\n",
       "<table border=\"1\" class=\"dataframe\">\n",
       "  <thead>\n",
       "    <tr style=\"text-align: right;\">\n",
       "      <th></th>\n",
       "      <th>id</th>\n",
       "      <th>display_name</th>\n",
       "      <th>status</th>\n",
       "      <th>followers</th>\n",
       "      <th>views</th>\n",
       "    </tr>\n",
       "  </thead>\n",
       "  <tbody>\n",
       "    <tr>\n",
       "      <th>0</th>\n",
       "      <td>30220059</td>\n",
       "      <td>ESL_SC2</td>\n",
       "      <td>RERUN: StarCraft 2 - Terminator vs. Parting (P...</td>\n",
       "      <td>135394</td>\n",
       "      <td>60991791</td>\n",
       "    </tr>\n",
       "    <tr>\n",
       "      <th>1</th>\n",
       "      <td>71852806</td>\n",
       "      <td>OgamingSC2</td>\n",
       "      <td>UnderDogs - Rediffusion - Qualifier.</td>\n",
       "      <td>40895</td>\n",
       "      <td>20694507</td>\n",
       "    </tr>\n",
       "    <tr>\n",
       "      <th>2</th>\n",
       "      <td>90401618</td>\n",
       "      <td>cretetion</td>\n",
       "      <td>It's a Divison kind of Day</td>\n",
       "      <td>908</td>\n",
       "      <td>11631</td>\n",
       "    </tr>\n",
       "    <tr>\n",
       "      <th>3</th>\n",
       "      <td>79776140</td>\n",
       "      <td>FreeCodeCamp</td>\n",
       "      <td>Greg working on Electron-Vue boilerplate w/ Ak...</td>\n",
       "      <td>10122</td>\n",
       "      <td>163747</td>\n",
       "    </tr>\n",
       "    <tr>\n",
       "      <th>4</th>\n",
       "      <td>86238744</td>\n",
       "      <td>storbeck</td>\n",
       "      <td>None</td>\n",
       "      <td>10</td>\n",
       "      <td>1019</td>\n",
       "    </tr>\n",
       "    <tr>\n",
       "      <th>5</th>\n",
       "      <td>6726509</td>\n",
       "      <td>Habathcx</td>\n",
       "      <td>Massively Effective</td>\n",
       "      <td>14</td>\n",
       "      <td>764</td>\n",
       "    </tr>\n",
       "    <tr>\n",
       "      <th>6</th>\n",
       "      <td>54925078</td>\n",
       "      <td>RobotCaleb</td>\n",
       "      <td>Code wrangling</td>\n",
       "      <td>20</td>\n",
       "      <td>4602</td>\n",
       "    </tr>\n",
       "    <tr>\n",
       "      <th>7</th>\n",
       "      <td>82534701</td>\n",
       "      <td>noobs2ninjas</td>\n",
       "      <td>Building a new hackintosh for #programming and...</td>\n",
       "      <td>835</td>\n",
       "      <td>48102</td>\n",
       "    </tr>\n",
       "  </tbody>\n",
       "</table>\n",
       "</div>"
      ],
      "text/plain": [
       "         id  display_name                                             status  \\\n",
       "0  30220059       ESL_SC2  RERUN: StarCraft 2 - Terminator vs. Parting (P...   \n",
       "1  71852806    OgamingSC2               UnderDogs - Rediffusion - Qualifier.   \n",
       "2  90401618     cretetion                         It's a Divison kind of Day   \n",
       "3  79776140  FreeCodeCamp  Greg working on Electron-Vue boilerplate w/ Ak...   \n",
       "4  86238744      storbeck                                               None   \n",
       "5   6726509      Habathcx                                Massively Effective   \n",
       "6  54925078    RobotCaleb                                     Code wrangling   \n",
       "7  82534701  noobs2ninjas  Building a new hackintosh for #programming and...   \n",
       "\n",
       "  followers     views  \n",
       "0    135394  60991791  \n",
       "1     40895  20694507  \n",
       "2       908     11631  \n",
       "3     10122    163747  \n",
       "4        10      1019  \n",
       "5        14       764  \n",
       "6        20      4602  \n",
       "7       835     48102  "
      ]
     },
     "execution_count": 4,
     "metadata": {},
     "output_type": "execute_result"
    }
   ],
   "source": [
    "# only 7 remain of the original 23 o.o\n",
    "df"
   ]
  },
  {
   "cell_type": "markdown",
   "metadata": {},
   "source": [
    "# 2. App Store Reviews\n",
    "\n",
    "The Apple app store has a `GET` API to get reviews on apps. The URL is:\n",
    "\n",
    "```\n",
    "https://itunes.apple.com/{COUNTRY_CODE}/rss/customerreviews/id={APP_ID_HERE}/page={PAGE_NUMBER}/sortby=mostrecent/json\n",
    "```\n",
    "\n",
    "Note that you need to provide:\n",
    "\n",
    "- The country code (eg. `'us'`, `'gb'`, `'ca'`, `'au'`) \n",
    "\n",
    "- The app ID. This can be found in the web page for the app right after `id`. For instance, Candy Crush's US webpage is:\n",
    "\n",
    "`https://apps.apple.com/us/app/candy-crush-saga/id553834731`\n",
    "\n",
    "So here the ID would be `553834731`.\n",
    "\n",
    "- The \"Page Number\". The request responds with multiple pages of data, but sends them one at a time. So you can cycle through the data pages for any app on any country."
   ]
  },
  {
   "cell_type": "markdown",
   "metadata": {},
   "source": [
    "### 2.1 English app reviews\n",
    "\n",
    "Get all english reviews you can for Candy Crush, Tinder, the Facebook app and Twitter (you have to get them from all the english-speaking countries you can think of!)."
   ]
  },
  {
   "cell_type": "code",
   "execution_count": 2,
   "metadata": {},
   "outputs": [],
   "source": [
    "apps = {\"Candy Crush Saga\": 553834731, \"Tinder\": 547702041, \"Facebook\": 284882215, \"Twitter\": 333903271}\n",
    "reviews = {\"Candy Crush Saga\": [], \"Tinder\": [], \"Facebook\": [], \"Twitter\": []}\n",
    "ratings = {\"Candy Crush Saga\": [], \"Tinder\": [], \"Facebook\": [], \"Twitter\": []}\n",
    "\n",
    "# according to wiki, these are the countries where English is an official language (de facto & de juro)\n",
    "countries = [\"au\", \"us\", \"ca\", \"uk\", \"nz\", \"gh\", \"ng\", \"fj\", \"sg\", \"ie\", \"ke\", \"gd\", \"za\", \"ag\", \"bs\", \"bb\", \"bz\", \"dm\", \"gy\", \n",
    "            \"jm\", \"lr\", \"pg\", \"kn\", \"lc\", \"vc\", \"sl\", \"tt\"]"
   ]
  },
  {
   "cell_type": "code",
   "execution_count": 7,
   "metadata": {
    "scrolled": true
   },
   "outputs": [],
   "source": [
    "page = 1\n",
    "next = False\n",
    "\n",
    "for app in apps:\n",
    "    \n",
    "    for country in countries:\n",
    "        next = False \n",
    "        while not next:\n",
    "            try:\n",
    "                r = requests.get(f\"https://itunes.apple.com/{country}/rss/customerreviews/id={apps[app]}/page={page}/sortby=mostrecent/json\")\n",
    "                content = json.loads(r.content)\n",
    "\n",
    "                for review in content[\"feed\"][\"entry\"]:\n",
    "                    reviews[app].append(review[\"content\"][\"label\"])\n",
    "\n",
    "                page += 1\n",
    "\n",
    "            except:\n",
    "                page = 1\n",
    "                next = True"
   ]
  },
  {
   "cell_type": "code",
   "execution_count": 11,
   "metadata": {},
   "outputs": [],
   "source": [
    "# The results are in the reviews variable, under their respective keys.\n",
    "\n",
    "# ** EYE WARNING ** \n",
    "# They have not been sorted or organized, just jam packed in there.\n",
    "\n",
    "# reviews[\"Candy Crush Saga\"]"
   ]
  },
  {
   "cell_type": "markdown",
   "metadata": {},
   "source": [
    "### 2.2 Best version\n",
    "\n",
    "For each app, get the version that is the best rated.\n",
    "\n",
    "Make a visualization of the ratings per versions per app to show this."
   ]
  },
  {
   "cell_type": "code",
   "execution_count": 37,
   "metadata": {
    "scrolled": true
   },
   "outputs": [],
   "source": [
    "page = 1\n",
    "next = False\n",
    "rating = {}\n",
    "\n",
    "for app in apps:\n",
    "    \n",
    "    for country in countries:\n",
    "        \n",
    "        next = False \n",
    "        while not next:\n",
    "            \n",
    "            try:\n",
    "                r = requests.get(f\"https://itunes.apple.com/{country}/rss/customerreviews/id={apps[app]}/page={page}/sortby=mostrecent/json\")\n",
    "                content = json.loads(r.content)\n",
    "\n",
    "                for review in content[\"feed\"][\"entry\"]:\n",
    "                    \n",
    "                    if review[\"im:version\"][\"label\"] in rating:\n",
    "                        rating[review[\"im:version\"][\"label\"]] += int(review[\"im:rating\"][\"label\"])\n",
    "                    \n",
    "                    else:\n",
    "                        rating[review[\"im:version\"][\"label\"]] = int(review[\"im:rating\"][\"label\"])\n",
    "                \n",
    "                page += 1\n",
    "\n",
    "            except:\n",
    "                page = 1\n",
    "                next = True\n",
    "    \n",
    "    ratings[app] = rating\n",
    "    rating = {}"
   ]
  },
  {
   "cell_type": "code",
   "execution_count": 40,
   "metadata": {
    "scrolled": true
   },
   "outputs": [],
   "source": [
    "# The results are in the reviews variable, under their respective keys.\n",
    "\n",
    "# ** EYE WARNING ** \n",
    "# They have not been sorted or organized, just jam packed in there.\n",
    "\n",
    "# ratings[\"Candy Crush Saga\"]"
   ]
  },
  {
   "cell_type": "code",
   "execution_count": 157,
   "metadata": {},
   "outputs": [
    {
     "name": "stderr",
     "output_type": "stream",
     "text": [
      "C:\\Users\\rando\\anaconda3\\lib\\site-packages\\ipykernel_launcher.py:14: UserWarning: FixedFormatter should only be used together with FixedLocator\n",
      "  \n",
      "C:\\Users\\rando\\anaconda3\\lib\\site-packages\\ipykernel_launcher.py:25: UserWarning: FixedFormatter should only be used together with FixedLocator\n",
      "C:\\Users\\rando\\anaconda3\\lib\\site-packages\\ipykernel_launcher.py:36: UserWarning: FixedFormatter should only be used together with FixedLocator\n",
      "C:\\Users\\rando\\anaconda3\\lib\\site-packages\\ipykernel_launcher.py:47: UserWarning: FixedFormatter should only be used together with FixedLocator\n"
     ]
    },
    {
     "data": {
      "image/png": "[encoded data removed]",
      "text/plain": [
       "<Figure size 1080x720 with 4 Axes>"
      ]
     },
     "metadata": {
      "needs_background": "light"
     },
     "output_type": "display_data"
    }
   ],
   "source": [
    "# couldn't figure out how to do it in one loop :(\n",
    "# I sorted the ratings dictionary based on most popular, then kept the 20 highest rated versions and plotted it\n",
    "\n",
    "fig, ax = plt.subplots(2, 2, figsize=(15,10))\n",
    "    \n",
    "ratings[\"Candy Crush Saga\"] = dict(sorted(ratings[\"Candy Crush Saga\"].items(), key=lambda item: item[1], reverse = True))\n",
    "data = list(ratings[\"Candy Crush Saga\"].items())[:20]\n",
    "data = dict(data)\n",
    "\n",
    "keys = data.keys()\n",
    "values = data.values()\n",
    "\n",
    "ax[0][0].bar(keys, values);\n",
    "ax[0][0].set_xticklabels(keys, rotation=90)\n",
    "ax[0][0].set_title(\"Candy Crush Saga\")\n",
    "\n",
    "ratings[\"Tinder\"] = dict(sorted(ratings[\"Tinder\"].items(), key=lambda item: item[1], reverse = True))\n",
    "data = list(ratings[\"Tinder\"].items())[:20]\n",
    "data = dict(data)\n",
    "\n",
    "keys = data.keys()\n",
    "values = data.values()\n",
    "\n",
    "ax[0][1].bar(keys, values);\n",
    "ax[0][1].set_xticklabels(keys, rotation=90)\n",
    "ax[0][1].set_title(\"Tinder\")\n",
    "\n",
    "ratings[\"Facebook\"] = dict(sorted(ratings[\"Facebook\"].items(), key=lambda item: item[1], reverse = True))\n",
    "data = list(ratings[\"Facebook\"].items())[:20]\n",
    "data = dict(data)\n",
    "\n",
    "keys = data.keys()\n",
    "values = data.values()\n",
    "\n",
    "ax[1][0].bar(keys, values);\n",
    "ax[1][0].set_xticklabels(keys, rotation=90)\n",
    "ax[1][0].set_title(\"Facebook\")\n",
    "\n",
    "ratings[\"Twitter\"] = dict(sorted(ratings[\"Twitter\"].items(), key=lambda item: item[1], reverse = True))\n",
    "data = list(ratings[\"Twitter\"].items())[:20]\n",
    "data = dict(data)\n",
    "\n",
    "keys = data.keys()\n",
    "values = data.values()\n",
    "\n",
    "ax[1][1].bar(keys, values);\n",
    "ax[1][1].set_xticklabels(keys, rotation=90);\n",
    "ax[1][1].set_title(\"Twitter\")\n",
    "\n",
    "fig.tight_layout()"
   ]
  },
  {
   "cell_type": "markdown",
   "metadata": {},
   "source": [
    "### 2.3 Top words\n",
    "\n",
    "Which word for each app is most common in the 5 star and in the 1-star review's titles?\n",
    "\n",
    "Note: `df.title.str.get_dummies()` is your friend\n",
    "\n",
    "Note: This might create a lot of data! Try to break down your analysis in chunks if it doesn't work."
   ]
  },
  {
   "cell_type": "code",
   "execution_count": 56,
   "metadata": {},
   "outputs": [],
   "source": [
    "page = 1\n",
    "next = False\n",
    "five_star_words = []\n",
    "one_star_words = []\n",
    "\n",
    "for app in apps:\n",
    "    \n",
    "    for country in countries:\n",
    "        \n",
    "        next = False \n",
    "        while not next:\n",
    "            \n",
    "            try:\n",
    "                r = requests.get(f\"https://itunes.apple.com/{country}/rss/customerreviews/id={apps[app]}/page={page}/sortby=mostrecent/json\")\n",
    "                content = json.loads(r.content)\n",
    "\n",
    "                for review in content[\"feed\"][\"entry\"]:\n",
    "                    \n",
    "                    if review[\"im:rating\"][\"label\"] == '5':\n",
    "                        for word in review[\"content\"][\"label\"].split():\n",
    "                            word = word.replace(\",\", \"\")\n",
    "                            word = word.replace(\"?\", \"\")\n",
    "                            word = word.replace(\"!\", \"\")\n",
    "                            word = word.replace(\".\", \"\")\n",
    "                            five_star_words.append(word)\n",
    "                    \n",
    "                    elif review[\"im:rating\"][\"label\"] == '1':\n",
    "                        for word in review[\"content\"][\"label\"].split():\n",
    "                            word = word.replace(\",\", \"\")\n",
    "                            word = word.replace(\"?\", \"\")\n",
    "                            word = word.replace(\"!\", \"\")\n",
    "                            word = word.replace(\".\", \"\")\n",
    "                            one_star_words.append(word)\n",
    "                \n",
    "                page += 1\n",
    "\n",
    "            except:\n",
    "                page = 1\n",
    "                next = True"
   ]
  },
  {
   "cell_type": "code",
   "execution_count": 57,
   "metadata": {},
   "outputs": [],
   "source": [
    "five_star_df = pd.DataFrame(columns=[\"words\"], data=five_star_words)\n",
    "one_star_df = pd.DataFrame(columns=[\"words\"], data=one_star_words)"
   ]
  },
  {
   "cell_type": "code",
   "execution_count": 58,
   "metadata": {},
   "outputs": [
    {
     "data": {
      "text/plain": [
       "I         2677\n",
       "the       2396\n",
       "to        2283\n",
       "and       2119\n",
       "it        1787\n",
       "          ... \n",
       "10/15        1\n",
       "1351         1\n",
       "Anyway       1\n",
       "تكون         1\n",
       "%            1\n",
       "Name: words, Length: 9010, dtype: int64"
      ]
     },
     "execution_count": 58,
     "metadata": {},
     "output_type": "execute_result"
    }
   ],
   "source": [
    "five_star_df.words.value_counts()"
   ]
  },
  {
   "cell_type": "code",
   "execution_count": 59,
   "metadata": {
    "scrolled": true
   },
   "outputs": [
    {
     "data": {
      "text/plain": [
       "to            8203\n",
       "the           7835\n",
       "I             7834\n",
       "and           7245\n",
       "a             4554\n",
       "              ... \n",
       "sorry)           1\n",
       "sacar            1\n",
       "ironically       1\n",
       "namely           1\n",
       "anti-man         1\n",
       "Name: words, Length: 16865, dtype: int64"
      ]
     },
     "execution_count": 59,
     "metadata": {},
     "output_type": "execute_result"
    }
   ],
   "source": [
    "one_star_df.words.value_counts()"
   ]
  },
  {
   "cell_type": "code",
   "execution_count": null,
   "metadata": {},
   "outputs": [],
   "source": [
    "# Most used word for 5 star reviews: I\n",
    "# Most used word for 1 star reviews: to"
   ]
  },
  {
   "cell_type": "markdown",
   "metadata": {},
   "source": [
    "# 3 (STRETCH) IMDB scraping\n",
    "\n",
    "IMDB has structured web pages. We can exploit this to scrape movie data.\n",
    "\n",
    "Usinf the following URL:\n",
    "\n",
    "`https://www.imdb.com/search/title/?groups=top_1000&start={PAGE_NUMBER}&ref_=adv_nxt`\n",
    "\n",
    "With the following headers in your `GET` request: `{\"Accept-Language\": \"en-US,en;q=0.5\"}`\n",
    "\n",
    "You can generate a dataframe like this one by cycling over the page numbers in the URL requested:\n",
    "\n",
    "![](IMDB.png)\n",
    "\n",
    "Note that the following  page attribues will be of interest:\n",
    "\n",
    "- `div` with a class of `lister-item mode-advanced`\n",
    "\n",
    "- Various `span` objects within that `div` like `lister-item-year` and `runtime` and `metascore`"
   ]
  }
 ],
 "metadata": {
  "file_extension": ".py",
  "kernelspec": {
   "display_name": "Python 3",
   "language": "python",
   "name": "python3"
  },
  "language_info": {
   "codemirror_mode": {
    "name": "ipython",
    "version": 3
   },
   "file_extension": ".py",
   "mimetype": "text/x-python",
   "name": "python",
   "nbconvert_exporter": "python",
   "pygments_lexer": "ipython3",
   "version": "3.7.6"
  },
  "mimetype": "text/x-python",
  "name": "python",
  "npconvert_exporter": "python",
  "pygments_lexer": "ipython3",
  "version": 3
 },
 "nbformat": 4,
 "nbformat_minor": 2
}
